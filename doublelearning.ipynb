{
 "cells": [
  {
   "cell_type": "markdown",
   "metadata": {
    "collapsed": true,
    "pycharm": {
     "name": "#%% md\n"
    }
   },
   "source": [
    "### \"Generally speaking, the Sarsa algorithm has faster convergence characteristics, while the Q-learning algorithm has a better final performance.\"\n",
    "#### http://dx.doi.org/10.1016/j.engappai.2013.06.016"
   ]
  },
  {
   "cell_type": "code",
   "execution_count": 8,
   "outputs": [],
   "source": [
    "import gym\n",
    "import gym_gridworlds\n",
    "import pandas as pd\n",
    "\n",
    "from learning_functions import double_learning, sarsa, qLearning, evaluate, double_learning2"
   ],
   "metadata": {
    "collapsed": false,
    "pycharm": {
     "name": "#%%\n"
    }
   }
  },
  {
   "cell_type": "code",
   "execution_count": 2,
   "outputs": [],
   "source": [
    "env = gym.make(\"Taxi-v3\")"
   ],
   "metadata": {
    "collapsed": false,
    "pycharm": {
     "name": "#%%\n"
    }
   }
  },
  {
   "cell_type": "code",
   "execution_count": 3,
   "outputs": [],
   "source": [
    "state = env.reset()"
   ],
   "metadata": {
    "collapsed": false,
    "pycharm": {
     "name": "#%%\n"
    }
   }
  },
  {
   "cell_type": "code",
   "execution_count": 4,
   "outputs": [
    {
     "name": "stdout",
     "output_type": "stream",
     "text": [
      "State space:  Discrete(500)\n",
      "Action space:  Discrete(6)\n"
     ]
    }
   ],
   "source": [
    "print('State space: ', env.observation_space)\n",
    "print('Action space: ', env.action_space)"
   ],
   "metadata": {
    "collapsed": false,
    "pycharm": {
     "name": "#%%\n"
    }
   }
  },
  {
   "cell_type": "code",
   "execution_count": 5,
   "outputs": [],
   "source": [
    "num_episodes = 600\n",
    "sarsa_only=100\n",
    "params= {\n",
    "    \"qleaning\":{\"fun\": qLearning, \"args\": (env, num_episodes), \"res\": []},\n",
    "    \"sarsa\":{\"fun\": sarsa, \"args\": (env, num_episodes), \"res\": []},\n",
    "    \"double\":{\"fun\": double_learning, \"args\": (env, sarsa_only, num_episodes - sarsa_only), \"res\": []}\n",
    "}"
   ],
   "metadata": {
    "collapsed": false,
    "pycharm": {
     "name": "#%%\n"
    }
   }
  },
  {
   "cell_type": "code",
   "execution_count": 6,
   "outputs": [],
   "source": [
    "for _ in range(5):\n",
    "    for key, val in params.items():\n",
    "        val[\"res\"].append( val[\"fun\"](*val[\"args\"]))"
   ],
   "metadata": {
    "collapsed": false,
    "pycharm": {
     "name": "#%%\n"
    }
   }
  },
  {
   "cell_type": "code",
   "execution_count": 23,
   "outputs": [
    {
     "name": "stdout",
     "output_type": "stream",
     "text": [
      "          avg_timesteps            avg_penalty          \n",
      "                   mean        std        mean       std\n",
      "algorithm                                               \n",
      "double        40.787000   2.079206    0.732667  0.721959\n",
      "qleaning      36.054667   1.794159    1.332667  0.913176\n",
      "sarsa        109.157000  26.569402    8.132333  8.764173\n"
     ]
    }
   ],
   "source": [
    "num_episodes = 600\n",
    "res_list=[]\n",
    "for key, val in params.items():\n",
    "    for idx3 in range(5):\n",
    "        avg_tmpst, avg_pen = evaluate(env, val[\"res\"][idx3][0], num_episodes)\n",
    "        res_list.append( (key, avg_tmpst, avg_pen) )\n",
    "stats_df = pd.DataFrame(data = res_list, columns = [\"algorithm\", \"avg_timesteps\", \"avg_penalty\"])\n",
    "print(stats_df.groupby(\"algorithm\").agg(['mean', 'std']))"
   ],
   "metadata": {
    "collapsed": false,
    "pycharm": {
     "name": "#%%\n"
    }
   }
  }
 ],
 "metadata": {
  "kernelspec": {
   "display_name": "Python 3",
   "language": "python",
   "name": "python3"
  },
  "language_info": {
   "codemirror_mode": {
    "name": "ipython",
    "version": 2
   },
   "file_extension": ".py",
   "mimetype": "text/x-python",
   "name": "python",
   "nbconvert_exporter": "python",
   "pygments_lexer": "ipython2",
   "version": "2.7.6"
  }
 },
 "nbformat": 4,
 "nbformat_minor": 0
}